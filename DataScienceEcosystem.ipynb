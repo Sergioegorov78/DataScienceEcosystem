{
  "metadata": {
    "language_info": {
      "codemirror_mode": {
        "name": "python",
        "version": 3
      },
      "file_extension": ".py",
      "mimetype": "text/x-python",
      "name": "python",
      "nbconvert_exporter": "python",
      "pygments_lexer": "ipython3",
      "version": "3.8"
    },
    "kernelspec": {
      "name": "python",
      "display_name": "Python (Pyodide)",
      "language": "python"
    }
  },
  "nbformat_minor": 4,
  "nbformat": 4,
  "cells": [
    {
      "cell_type": "markdown",
      "source": "# Data Science Tools and Ecosystem",
      "metadata": {
        "tags": []
      }
    },
    {
      "cell_type": "markdown",
      "source": "In this notebook, Data Science Tools and Ecosystem are summarized.",
      "metadata": {
        "tags": []
      }
    },
    {
      "cell_type": "markdown",
      "source": "**Objectives:**\n\n- List popular languages for Data Science.\n- Introduce commonly used libraries in Data Science.\n- Explore various Data Science tools and environments.\n- Demonstrate basic arithmetic expressions in Python.",
      "metadata": {}
    },
    {
      "cell_type": "markdown",
      "source": "Some of the popular languages that Data Scientists use are:\n1. **Python**\n2. **R**\n3. **SQL**",
      "metadata": {}
    },
    {
      "cell_type": "markdown",
      "source": "Some of the commonly used libraries by Data Scientists include:\n1. **NumPy**\n2. **Pandas**\n3. **Matplotlib**",
      "metadata": {}
    },
    {
      "cell_type": "markdown",
      "source": "Data Science Tools\n\n| Tools|\n|---|\n| Jupyter Notebooks |\n| RStudio |\n| Watson Studio|",
      "metadata": {}
    },
    {
      "cell_type": "markdown",
      "source": "### Below are a few examples of evaluating arithmetic expressions in Python.",
      "metadata": {}
    },
    {
      "cell_type": "code",
      "source": "#This is a simple arithmetic expression to multiply then add integers.\nresult = (3 * 4) + 5\nresult",
      "metadata": {},
      "execution_count": null,
      "outputs": [
        {
          "execution_count": 9,
          "output_type": "execute_result",
          "data": {
            "text/plain": "17"
          },
          "metadata": {}
        }
      ]
    },
    {
      "cell_type": "code",
      "source": "# This will convert 200 minutes to hours by dividing by 60.\nminutes = 200\nhours = minutes / 60\nhours",
      "metadata": {},
      "execution_count": null,
      "outputs": [
        {
          "execution_count": 10,
          "output_type": "execute_result",
          "data": {
            "text/plain": "3.3333333333333335"
          },
          "metadata": {}
        }
      ]
    },
    {
      "cell_type": "markdown",
      "source": "## Author\nSergei Egorov",
      "metadata": {}
    }
  ]
}